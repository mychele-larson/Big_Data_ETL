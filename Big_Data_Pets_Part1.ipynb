{
  "cells": [
    {
      "cell_type": "markdown",
      "metadata": {
        "id": "view-in-github",
        "colab_type": "text"
      },
      "source": [
        "<a href=\"https://colab.research.google.com/github/mychele-larson/Big_Data_ETL/blob/main/Big_Data_Pets_Part1.ipynb\" target=\"_parent\"><img src=\"https://colab.research.google.com/assets/colab-badge.svg\" alt=\"Open In Colab\"/></a>"
      ]
    },
    {
      "cell_type": "code",
      "execution_count": 1,
      "metadata": {
        "colab": {
          "base_uri": "https://localhost:8080/"
        },
        "id": "-8eFW_wl1n39",
        "outputId": "c32d0556-2b69-43d7-d8a4-177d930ae009"
      },
      "outputs": [
        {
          "output_type": "stream",
          "name": "stdout",
          "text": [
            "Hit:1 http://archive.ubuntu.com/ubuntu focal InRelease\n",
            "Get:2 http://archive.ubuntu.com/ubuntu focal-updates InRelease [114 kB]\n",
            "Get:3 http://security.ubuntu.com/ubuntu focal-security InRelease [114 kB]\n",
            "Get:4 https://cloud.r-project.org/bin/linux/ubuntu focal-cran40/ InRelease [3,622 B]\n",
            "Ign:5 https://developer.download.nvidia.com/compute/machine-learning/repos/ubuntu2004/x86_64  InRelease\n",
            "Get:6 https://developer.download.nvidia.com/compute/cuda/repos/ubuntu2004/x86_64  InRelease [1,581 B]\n",
            "Get:7 http://ppa.launchpad.net/c2d4u.team/c2d4u4.0+/ubuntu focal InRelease [18.1 kB]\n",
            "Hit:8 https://developer.download.nvidia.com/compute/machine-learning/repos/ubuntu2004/x86_64  Release\n",
            "Get:9 http://archive.ubuntu.com/ubuntu focal-backports InRelease [108 kB]\n",
            "Hit:10 http://ppa.launchpad.net/cran/libgit2/ubuntu focal InRelease\n",
            "Get:11 http://archive.ubuntu.com/ubuntu focal-updates/universe amd64 Packages [1,312 kB]\n",
            "Get:12 http://security.ubuntu.com/ubuntu focal-security/main amd64 Packages [2,544 kB]\n",
            "Hit:13 http://ppa.launchpad.net/deadsnakes/ppa/ubuntu focal InRelease\n",
            "Get:14 http://archive.ubuntu.com/ubuntu focal-updates/main amd64 Packages [3,019 kB]\n",
            "Hit:15 http://ppa.launchpad.net/graphics-drivers/ppa/ubuntu focal InRelease\n",
            "Hit:16 http://ppa.launchpad.net/ubuntugis/ppa/ubuntu focal InRelease\n",
            "Get:17 https://developer.download.nvidia.com/compute/cuda/repos/ubuntu2004/x86_64  Packages [920 kB]\n",
            "Get:19 http://ppa.launchpad.net/c2d4u.team/c2d4u4.0+/ubuntu focal/main Sources [2,397 kB]\n",
            "Get:20 http://ppa.launchpad.net/c2d4u.team/c2d4u4.0+/ubuntu focal/main amd64 Packages [1,136 kB]\n",
            "Fetched 11.7 MB in 4s (3,141 kB/s)\n",
            "Reading package lists... Done\n"
          ]
        }
      ],
      "source": [
        "# Activate Spark in our Colab notebook.\n",
        "import os\n",
        "# Find the latest version of spark 3.2  from http://www.apache.org/dist/spark/ and enter as the spark version\n",
        "# For example:\n",
        "# spark_version = 'spark-3.2.3'\n",
        "spark_version = 'spark-3.2.3'\n",
        "os.environ['SPARK_VERSION']=spark_version\n",
        "\n",
        "# Install Spark and Java\n",
        "!apt-get update\n",
        "!apt-get install openjdk-11-jdk-headless -qq > /dev/null\n",
        "!wget -q http://www.apache.org/dist/spark/$SPARK_VERSION/$SPARK_VERSION-bin-hadoop2.7.tgz\n",
        "!tar xf $SPARK_VERSION-bin-hadoop2.7.tgz\n",
        "!pip install -q findspark\n",
        "\n",
        "# Set Environment Variables\n",
        "import os\n",
        "os.environ[\"JAVA_HOME\"] = \"/usr/lib/jvm/java-11-openjdk-amd64\"\n",
        "os.environ[\"SPARK_HOME\"] = f\"/content/{spark_version}-bin-hadoop2.7\"\n",
        "\n",
        "# Start a SparkSession\n",
        "import findspark\n",
        "findspark.init()"
      ]
    },
    {
      "cell_type": "code",
      "execution_count": 2,
      "metadata": {
        "colab": {
          "base_uri": "https://localhost:8080/"
        },
        "id": "BzCrgs0Z1rnw",
        "outputId": "147f80e1-b4cf-4a45-fb2a-7e00be1e8a9e"
      },
      "outputs": [
        {
          "output_type": "stream",
          "name": "stdout",
          "text": [
            "--2023-03-14 22:57:38--  https://jdbc.postgresql.org/download/postgresql-42.2.9.jar\n",
            "Resolving jdbc.postgresql.org (jdbc.postgresql.org)... 72.32.157.228, 2001:4800:3e1:1::228\n",
            "Connecting to jdbc.postgresql.org (jdbc.postgresql.org)|72.32.157.228|:443... connected.\n",
            "HTTP request sent, awaiting response... 200 OK\n",
            "Length: 914037 (893K) [application/java-archive]\n",
            "Saving to: ‘postgresql-42.2.9.jar’\n",
            "\n",
            "postgresql-42.2.9.j 100%[===================>] 892.61K  --.-KB/s    in 0.09s   \n",
            "\n",
            "2023-03-14 22:57:38 (9.93 MB/s) - ‘postgresql-42.2.9.jar’ saved [914037/914037]\n",
            "\n"
          ]
        }
      ],
      "source": [
        "# Get postgresql package\n",
        "!wget https://jdbc.postgresql.org/download/postgresql-42.2.9.jar"
      ]
    },
    {
      "cell_type": "code",
      "execution_count": 3,
      "metadata": {
        "id": "0DuBth0V2PR8"
      },
      "outputs": [],
      "source": [
        "# Import Spark and create a SparkSession\n",
        "from pyspark.sql import SparkSession\n",
        "spark = SparkSession.builder.appName(\"BigData-HW-1\").config(\"spark.driver.extraClassPath\",\"/content/postgresql-42.2.9.jar\").getOrCreate()"
      ]
    },
    {
      "cell_type": "markdown",
      "metadata": {
        "id": "D3W2XJVi2CU-"
      },
      "source": [
        "# Extract the Amazon Data into Spark DataFrame"
      ]
    },
    {
      "cell_type": "code",
      "execution_count": 20,
      "metadata": {
        "colab": {
          "base_uri": "https://localhost:8080/"
        },
        "id": "Na_stw7b1wfU",
        "outputId": "d8d6129e-42b6-4a78-83dd-6bb55352c645"
      },
      "outputs": [
        {
          "output_type": "stream",
          "name": "stdout",
          "text": [
            "+-----------+-----------+--------------+----------+--------------+--------------------+----------------+-----------+-------------+-----------+----+-----------------+--------------------+--------------------+-----------+\n",
            "|marketplace|customer_id|     review_id|product_id|product_parent|       product_title|product_category|star_rating|helpful_votes|total_votes|vine|verified_purchase|     review_headline|         review_body|review_date|\n",
            "+-----------+-----------+--------------+----------+--------------+--------------------+----------------+-----------+-------------+-----------+----+-----------------+--------------------+--------------------+-----------+\n",
            "|         US|   11232277|R1001KC9GI6ARJ|B0080YGXPE|     551772997|AETERTEK AT-918C ...|    Pet Products|          4|            1|          1|   N|                Y|great without gloves|works good keeps ...| 2015-04-16|\n",
            "|         US|   18802434|R100B4FHILXAWG|B007TRREJC|      56313707|   Happy Pet Harness|    Pet Products|          2|            0|          0|   N|                N|           Two Stars|didn't fit as exp...| 2014-10-19|\n",
            "|         US|    5584111|R1017Z5WWPSSLA|B0006342AU|     735846008|SmartyKat Organic...|    Pet Products|          5|            0|          0|   N|                Y|          Five Stars|     Cat loves this.| 2015-02-02|\n",
            "|         US|   32939702|R1019WUJBM9K3X|B005JW5VRG|     534045437|Marina Naturals F...|    Pet Products|          5|            0|          0|   N|                Y|          Five Stars|             Perfect| 2015-01-20|\n",
            "|         US|   50738127|R101IZCRPIN8SX|B0029PY7SK|     383930100|ThunderShirt Clas...|    Pet Products|          4|            0|          0|   N|                Y|          Four Stars|It works on some ...| 2014-12-03|\n",
            "|         US|   49683154|R101KD4S1R47FR|B002CM941K|     938528747|Hyperflite Jawz D...|    Pet Products|          5|            0|          0|   N|                Y|       Great Frisbee|To the point: ver...| 2014-01-28|\n",
            "|         US|   42553668|R102EATCBUUDL6|B0018KVHWQ|     206118958|EasyClip Quiet Ai...|    Pet Products|          5|            0|          1|   N|                Y|          Five Stars|            IT GREAT| 2014-08-08|\n",
            "|         US|   11056168|R102OI838NN3Z7|B000YDUAMQ|     180607962|Aqueon 06088 Filt...|    Pet Products|          5|            0|          0|   N|                Y|         Great price|We use these in o...| 2014-01-18|\n",
            "|         US|   45566045|R102VOSABZP429|B00TJ3N916|     521682976|MLB PET JERSEY. -...|    Pet Products|          5|            2|          2|   N|                Y|          Five Stars|Super cute on my ...| 2015-07-31|\n",
            "|         US|   45241970|R103GQY0RP7GOH|B00CX6LJ22|     595786155|Dogwidgets DW-3 R...|    Pet Products|          5|            0|          0|   N|                N|            Perfect!|We have a small d...| 2014-09-21|\n",
            "|         US|   11637795|R103N9CYVCM7YY|B00IBWZYVE|     882938526|Comfort Zone Feli...|    Pet Products|          3|            4|          6|   N|                N|              Unsure|Not sure if it's ...| 2014-06-17|\n",
            "|         US|   20885662|R103RPAXH53V7L|B0070S62U2|     690582944|West Paw Design J...|    Pet Products|          5|            0|          0|   N|                Y|these things seem...|these things seem...| 2015-06-06|\n",
            "|         US|   13481895|R103WGJI3K7XR0|B00OLPMPYY|     243499371|Plump your marimo...|    Pet Products|          5|            6|          8|   N|                N|   So much fluffier!|This is our first...| 2015-04-24|\n",
            "|         US|   17240589|R103WY0OHHL7SE|B000ES6EM6|     585074793|Chris Christensen...|    Pet Products|          5|            1|          1|   N|                Y|I like it! It's a...|I like it! It's a...| 2014-08-31|\n",
            "|         US|    1318781|R103YNHNQF2V83|B00NYCI2GU|     595990469|Emmy's Best Anti-...|    Pet Products|          5|            1|          1|   N|                Y|THIS WORKS VERY W...|THIS WORKS VERY W...| 2015-03-01|\n",
            "|         US|   24896185|R103ZQX6ZWP92Y|B000FUOCOA|      10365166|Maxiguard Oral Ge...|    Pet Products|          5|            1|          1|   N|                Y|MaxiGuard works g...|MaxiGuard works g...| 2015-01-01|\n",
            "|         US|   39025830|R104TFJOJZTYGS|B0057LAH6O|     336863963|Petmate Replendis...|    Pet Products|          3|            0|          0|   N|                Y|Good water dispen...|Good water dispen...| 2015-05-09|\n",
            "|         US|   37803298|R104Z88EOH2QBZ|B0009XSXZM|      47626204|IMS Cadet Gourmet...|    Pet Products|          5|            0|          0|   N|                Y|          Five Stars|awesomes dogs lov...| 2015-01-13|\n",
            "|         US|   18465625|R105KE9EV5NABE|B008AFZNHW|     858820850|Roo Dog Products ...|    Pet Products|          5|            5|          5|   N|                N|No more untanglin...|I have two small ...| 2012-07-06|\n",
            "|         US|   14477518|R105TNCXUBMWHW|B00RGNIPBU|     317695018|Floureon 110V Cer...|    Pet Products|          5|            5|          6|   N|                Y|like a lightbulb ...|Keeps my pet warm...| 2015-04-07|\n",
            "+-----------+-----------+--------------+----------+--------------+--------------------+----------------+-----------+-------------+-----------+----+-----------------+--------------------+--------------------+-----------+\n",
            "only showing top 20 rows\n",
            "\n"
          ]
        }
      ],
      "source": [
        "# Read in the data from an S3 Bucket\n",
        "from pyspark import SparkFiles\n",
        "\n",
        "url = \"https://big-data-etl-mychele-031123.s3.us-east-2.amazonaws.com/amazon_reviews_us_Pet_Products_v1_00.tsv.gz\"\n",
        "spark.sparkContext.addFile(url)\n",
        "df = spark.read.csv(SparkFiles.get(\"amazon_reviews_us_Pet_Products_v1_00.tsv.gz\"), sep=\"\\t\", header=True)\n",
        "\n",
        "# Drop duplicates\n",
        "df = df.drop_duplicates()\n",
        "\n",
        "# Drop null values\n",
        "df = df.dropna()\n",
        "\n",
        "# Show DataFrame\n",
        "df.show()"
      ]
    },
    {
      "cell_type": "code",
      "execution_count": 21,
      "metadata": {
        "colab": {
          "base_uri": "https://localhost:8080/"
        },
        "id": "Cayz-3Q52IM3",
        "outputId": "d1ba6559-52bd-4dd3-b58b-60957d2ac64a"
      },
      "outputs": [
        {
          "output_type": "execute_result",
          "data": {
            "text/plain": [
              "2643241"
            ]
          },
          "metadata": {},
          "execution_count": 21
        }
      ],
      "source": [
        "# Get the number of rows in the DataFrame.\n",
        "df.count()"
      ]
    },
    {
      "cell_type": "markdown",
      "metadata": {
        "id": "C9U0rkGZ2eu7"
      },
      "source": [
        "# Transform the Data"
      ]
    },
    {
      "cell_type": "markdown",
      "source": [
        "## Create the \"review_id_table\"."
      ],
      "metadata": {
        "id": "dUoftWoKtM_c"
      }
    },
    {
      "cell_type": "code",
      "execution_count": 22,
      "metadata": {
        "colab": {
          "base_uri": "https://localhost:8080/"
        },
        "id": "2tMYkSIk2d-m",
        "outputId": "ec6c2cf2-97a9-4741-f8ec-7b77f08e272a"
      },
      "outputs": [
        {
          "output_type": "stream",
          "name": "stdout",
          "text": [
            "+--------------+-----------+----------+--------------+-----------+\n",
            "|     review_id|customer_id|product_id|product_parent|review_date|\n",
            "+--------------+-----------+----------+--------------+-----------+\n",
            "|R1001KC9GI6ARJ|   11232277|B0080YGXPE|     551772997| 2015-04-16|\n",
            "|R100B4FHILXAWG|   18802434|B007TRREJC|      56313707| 2014-10-19|\n",
            "|R1017Z5WWPSSLA|    5584111|B0006342AU|     735846008| 2015-02-02|\n",
            "|R1019WUJBM9K3X|   32939702|B005JW5VRG|     534045437| 2015-01-20|\n",
            "|R101IZCRPIN8SX|   50738127|B0029PY7SK|     383930100| 2014-12-03|\n",
            "|R101KD4S1R47FR|   49683154|B002CM941K|     938528747| 2014-01-28|\n",
            "|R102EATCBUUDL6|   42553668|B0018KVHWQ|     206118958| 2014-08-08|\n",
            "|R102OI838NN3Z7|   11056168|B000YDUAMQ|     180607962| 2014-01-18|\n",
            "|R102VOSABZP429|   45566045|B00TJ3N916|     521682976| 2015-07-31|\n",
            "|R103GQY0RP7GOH|   45241970|B00CX6LJ22|     595786155| 2014-09-21|\n",
            "|R103N9CYVCM7YY|   11637795|B00IBWZYVE|     882938526| 2014-06-17|\n",
            "|R103RPAXH53V7L|   20885662|B0070S62U2|     690582944| 2015-06-06|\n",
            "|R103WGJI3K7XR0|   13481895|B00OLPMPYY|     243499371| 2015-04-24|\n",
            "|R103WY0OHHL7SE|   17240589|B000ES6EM6|     585074793| 2014-08-31|\n",
            "|R103YNHNQF2V83|    1318781|B00NYCI2GU|     595990469| 2015-03-01|\n",
            "|R103ZQX6ZWP92Y|   24896185|B000FUOCOA|      10365166| 2015-01-01|\n",
            "|R104TFJOJZTYGS|   39025830|B0057LAH6O|     336863963| 2015-05-09|\n",
            "|R104Z88EOH2QBZ|   37803298|B0009XSXZM|      47626204| 2015-01-13|\n",
            "|R105KE9EV5NABE|   18465625|B008AFZNHW|     858820850| 2012-07-06|\n",
            "|R105TNCXUBMWHW|   14477518|B00RGNIPBU|     317695018| 2015-04-07|\n",
            "+--------------+-----------+----------+--------------+-----------+\n",
            "only showing top 20 rows\n",
            "\n"
          ]
        }
      ],
      "source": [
        "from pyspark.sql.functions import to_date, col\n",
        "# Create the \"review_id_df\" DataFrame with the appropriate columns and data types.\n",
        "# Select the necessary columns\n",
        "\n",
        "review_id_df = df.select(\"review_id\", \"customer_id\", \"product_id\", \"product_parent\", to_date(\"review_date\", \"yyyy-MM-dd\").alias(\"review_date\"))\n",
        "\n",
        "# Cast \"customer_id\" and \"product_parent\" column to integer\n",
        "review_id_df = review_id_df.withColumn(\"customer_id\", col(\"customer_id\").cast(\"integer\")).withColumn(\"product_parent\", col(\"product_parent\").cast(\"integer\"))\n",
        "\n",
        "# Show the resulting DataFrame\n",
        "review_id_df.show()"
      ]
    },
    {
      "cell_type": "markdown",
      "source": [
        "## Create the \"products\" Table"
      ],
      "metadata": {
        "id": "aAVCFjXhtXO8"
      }
    },
    {
      "cell_type": "code",
      "execution_count": 30,
      "metadata": {
        "id": "g9gTNhT62je4",
        "colab": {
          "base_uri": "https://localhost:8080/"
        },
        "outputId": "c62b45cc-0ff3-4162-de83-cc08555be7a8"
      },
      "outputs": [
        {
          "output_type": "stream",
          "name": "stdout",
          "text": [
            "+----------+--------------------+\n",
            "|product_id|       product_title|\n",
            "+----------+--------------------+\n",
            "|B00134HSYS|Special Edition P...|\n",
            "|B00BS6NPBG|High Tech Pet 6-P...|\n",
            "|B000F930FS|PetSafe ScoopFree...|\n",
            "|B000FJ9QTW|Insight ActiviToy...|\n",
            "|B000ALY0OQ|SmartCat Bootsie'...|\n",
            "|B00Q8ETIZ0|Dogloveit Rubber ...|\n",
            "|B002VU2BA4|Kragonfly Interch...|\n",
            "|B00QA3K3QM|Attmu Retractable...|\n",
            "|B005DGHUC2|Zoo Med Laborator...|\n",
            "|B000XY7C7C|All Four Paws, Th...|\n",
            "|B004UUE26O|Animal Planet PET...|\n",
            "|B008APML2C|Chuckit Medium Ul...|\n",
            "|B00ZJN7T8E|1 Half Portion Ja...|\n",
            "|B00NRZC8LY|Hide-A-Toy Hallow...|\n",
            "|B001P3NU4E|Virbac C.E.T. Enz...|\n",
            "|B003TEQ2U6|Jolly Pets Jolly ...|\n",
            "|B00DJSNF0M|Multipet Lenny th...|\n",
            "|B00FXVFEQG|Bags on Board Dur...|\n",
            "|B005ORDWYA|Just One Bite II ...|\n",
            "|B003E77OG4|  Petmate Sky Kennel|\n",
            "+----------+--------------------+\n",
            "only showing top 20 rows\n",
            "\n"
          ]
        }
      ],
      "source": [
        "from pyspark.sql.functions import to_date, col, substring\n",
        "# Create the \"products_df\" DataFrame that drops the duplicates in the \"product_id\" and \"product_title\" columns. \n",
        "products_df = df.select(\"product_id\", substring(col(\"product_title\"), 1,300).alias(\"product_title\"))\n",
        "\n",
        "# Drop duplicates\n",
        "products_df = products_df.drop_duplicates()\n",
        "\n",
        "# Show the resulting DataFrame\n",
        "products_df.show()"
      ]
    },
    {
      "cell_type": "code",
      "source": [
        "# Group by columns to find duplicates\n",
        "duplicates = products_df.groupBy(\"product_id\", \"product_title\").count().filter(col(\"count\") > 1)\n",
        "\n",
        "# Show duplicates\n",
        "duplicates.show()"
      ],
      "metadata": {
        "colab": {
          "base_uri": "https://localhost:8080/"
        },
        "id": "VXKDlWJM6DFx",
        "outputId": "16e2e37a-7018-4dec-c044-8338b6873e6c"
      },
      "execution_count": 8,
      "outputs": [
        {
          "output_type": "stream",
          "name": "stdout",
          "text": [
            "+----------+-------------+-----+\n",
            "|product_id|product_title|count|\n",
            "+----------+-------------+-----+\n",
            "+----------+-------------+-----+\n",
            "\n"
          ]
        }
      ]
    },
    {
      "cell_type": "markdown",
      "source": [
        "## Create the \"customers\" Table"
      ],
      "metadata": {
        "id": "LJHuZ9zut0e5"
      }
    },
    {
      "cell_type": "code",
      "execution_count": 23,
      "metadata": {
        "colab": {
          "base_uri": "https://localhost:8080/"
        },
        "id": "_pF2Vf3c2n2O",
        "outputId": "3991545b-71e9-45b2-afe8-8c4781def664"
      },
      "outputs": [
        {
          "output_type": "stream",
          "name": "stdout",
          "text": [
            "+-----------+--------------+\n",
            "|customer_id|customer_count|\n",
            "+-----------+--------------+\n",
            "|   20214846|            15|\n",
            "|   31120744|             4|\n",
            "|   20223672|             2|\n",
            "|   39043742|             1|\n",
            "|   15231334|             9|\n",
            "|   44700871|             2|\n",
            "|   26617857|             7|\n",
            "|   51750322|             1|\n",
            "|   42655488|             1|\n",
            "|   48278478|             1|\n",
            "|   11417844|             1|\n",
            "|   34795930|             4|\n",
            "|   12369110|             8|\n",
            "|   20437114|             1|\n",
            "|   25490618|             3|\n",
            "|   31754174|             6|\n",
            "|   20460479|             7|\n",
            "|   22219042|            30|\n",
            "|    4909697|             2|\n",
            "|   15741843|             9|\n",
            "+-----------+--------------+\n",
            "only showing top 20 rows\n",
            "\n"
          ]
        }
      ],
      "source": [
        "# Create the \"customers_df\" DataFrame that groups the data on the \"customer_id\" by the number of times a customer reviewed a product. \n",
        "customers_df = df.groupBy(\"customer_id\").agg({\"customer_id\": \"count\"}).withColumnRenamed(\"count(customer_id)\", \"customer_count\").withColumn(\"customer_id\", col(\"customer_id\").cast(\"integer\"))\n",
        "\n",
        "# Show the resulting DataFrame\n",
        "customers_df.show()"
      ]
    },
    {
      "cell_type": "markdown",
      "source": [
        "## Create the \"vine_table\"."
      ],
      "metadata": {
        "id": "8SbTasxbuXGK"
      }
    },
    {
      "cell_type": "code",
      "execution_count": 24,
      "metadata": {
        "colab": {
          "base_uri": "https://localhost:8080/"
        },
        "id": "WHQKbmCE2p3Q",
        "outputId": "d84d1b2f-ca04-4feb-91e8-039ff79f0cb2"
      },
      "outputs": [
        {
          "output_type": "stream",
          "name": "stdout",
          "text": [
            "+--------------+-----------+-------------+-----------+----+\n",
            "|     review_id|star_rating|helpful_votes|total_votes|vine|\n",
            "+--------------+-----------+-------------+-----------+----+\n",
            "|R1001KC9GI6ARJ|          4|            1|          1|   N|\n",
            "|R100B4FHILXAWG|          2|            0|          0|   N|\n",
            "|R1017Z5WWPSSLA|          5|            0|          0|   N|\n",
            "|R1019WUJBM9K3X|          5|            0|          0|   N|\n",
            "|R101IZCRPIN8SX|          4|            0|          0|   N|\n",
            "|R101KD4S1R47FR|          5|            0|          0|   N|\n",
            "|R102EATCBUUDL6|          5|            0|          1|   N|\n",
            "|R102OI838NN3Z7|          5|            0|          0|   N|\n",
            "|R102VOSABZP429|          5|            2|          2|   N|\n",
            "|R103GQY0RP7GOH|          5|            0|          0|   N|\n",
            "|R103N9CYVCM7YY|          3|            4|          6|   N|\n",
            "|R103RPAXH53V7L|          5|            0|          0|   N|\n",
            "|R103WGJI3K7XR0|          5|            6|          8|   N|\n",
            "|R103WY0OHHL7SE|          5|            1|          1|   N|\n",
            "|R103YNHNQF2V83|          5|            1|          1|   N|\n",
            "|R103ZQX6ZWP92Y|          5|            1|          1|   N|\n",
            "|R104TFJOJZTYGS|          3|            0|          0|   N|\n",
            "|R104Z88EOH2QBZ|          5|            0|          0|   N|\n",
            "|R105KE9EV5NABE|          5|            5|          5|   N|\n",
            "|R105TNCXUBMWHW|          5|            5|          6|   N|\n",
            "+--------------+-----------+-------------+-----------+----+\n",
            "only showing top 20 rows\n",
            "\n"
          ]
        }
      ],
      "source": [
        "# Create the \"vine_df\" DataFrame that has the \"review_id\", \"star_rating\", \"helpful_votes\", \"total_votes\", and \"vine\" columns. \n",
        "vine_df = df.select(\"review_id\", \"star_rating\", \"helpful_votes\", \"total_votes\", \"vine\") \\\n",
        "            .withColumn(\"star_rating\", col(\"star_rating\").cast(\"integer\")) \\\n",
        "            .withColumn(\"helpful_votes\", col(\"helpful_votes\").cast(\"integer\")) \\\n",
        "            .withColumn(\"total_votes\", col(\"total_votes\").cast(\"integer\"))\n",
        "            \n",
        "# Show the resulting DataFrame\n",
        "vine_df.show()\n"
      ]
    },
    {
      "cell_type": "markdown",
      "metadata": {
        "id": "I8aTsEjZ2s6L"
      },
      "source": [
        "# Load Postgres Set-up"
      ]
    },
    {
      "cell_type": "code",
      "execution_count": 25,
      "metadata": {
        "id": "W4dzUKfI2vXM"
      },
      "outputs": [],
      "source": [
        "# Configure settings for RDS\n",
        "mode = \"append\"\n",
        "jdbc_url=\"jdbc:postgresql://rds-bigdata.cjysn375vm3e.us-east-2.rds.amazonaws.com:5432/RDS_Database\"\n",
        "config = {\"user\":\"postgres\", \n",
        "          \"password\": \"postgres\", \n",
        "          \"driver\":\"org.postgresql.Driver\"}"
      ]
    },
    {
      "cell_type": "code",
      "execution_count": 27,
      "metadata": {
        "id": "iOxKqMsD2yVs"
      },
      "outputs": [],
      "source": [
        "# Write review_id_df to table in RDS\n",
        "review_id_df.write.jdbc(url=jdbc_url, table='review_id_table', mode=mode, properties=config)"
      ]
    },
    {
      "cell_type": "code",
      "execution_count": 31,
      "metadata": {
        "id": "pPXyGVE-2yPJ"
      },
      "outputs": [],
      "source": [
        "# Write products_df to table in RDS\n",
        "products_df.write.jdbc(url=jdbc_url, table='products', mode=mode, properties=config)\n"
      ]
    },
    {
      "cell_type": "code",
      "execution_count": 32,
      "metadata": {
        "id": "aHbca4zN2yIa"
      },
      "outputs": [],
      "source": [
        "# Write customers_df to table in RDS\n",
        "customers_df.write.jdbc(url=jdbc_url, table='customers', mode=mode, properties=config)"
      ]
    },
    {
      "cell_type": "code",
      "execution_count": 33,
      "metadata": {
        "id": "2HfOFneW2x_F"
      },
      "outputs": [],
      "source": [
        "# Write vine_df to table in RDS\n",
        "vine_df.write.jdbc(url=jdbc_url, table='vine_table', mode=mode, properties=config)"
      ]
    }
  ],
  "metadata": {
    "colab": {
      "provenance": [],
      "include_colab_link": true
    },
    "kernelspec": {
      "display_name": "Python 3",
      "language": "python",
      "name": "python3"
    },
    "language_info": {
      "codemirror_mode": {
        "name": "ipython",
        "version": 3
      },
      "file_extension": ".py",
      "mimetype": "text/x-python",
      "name": "python",
      "nbconvert_exporter": "python",
      "pygments_lexer": "ipython3",
      "version": "3.8.8"
    }
  },
  "nbformat": 4,
  "nbformat_minor": 0
}